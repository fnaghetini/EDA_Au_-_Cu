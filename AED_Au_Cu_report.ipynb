{
  "nbformat": 4,
  "nbformat_minor": 0,
  "metadata": {
    "colab": {
      "name": "AED_AU_CU.ipynb",
      "provenance": [],
      "collapsed_sections": [
        "WXsCzj8yBu8c",
        "y2_KMsmsB-Wm",
        "81lDMGl1_nmy",
        "ZF8m7U0exn8j",
        "PBRdVB_oEkno",
        "alu2S0rvC-Oe",
        "Hoc98zfXvP7o",
        "KUdccBlB2QTF",
        "ExGWyILOJQv3",
        "5xS-3RclOgsu",
        "SfAgO2U8jJGK",
        "wH7Po2O364zq",
        "p-2OMUCNOtGW",
        "70A-vFyoOwle",
        "wy3wyUR9Juh9",
        "ueAUqjsN716m",
        "YAV2LiSkGfQV",
        "I_yMGvZpjdU5",
        "4zYFMTOAoS7h",
        "dvGj_-n5t1VX",
        "L0jdslvtPTV1",
        "Ye9oPh3pPmW6",
        "kvshqKMrzxoU"
      ],
      "toc_visible": true
    },
    "kernelspec": {
      "name": "python3",
      "display_name": "Python 3"
    }
  },
  "cells": [
    {
      "cell_type": "markdown",
      "metadata": {
        "id": "grgdiMgD8UtX",
        "colab_type": "text"
      },
      "source": [
        "# Análise Exploratória dos Dados - Depósito de Ouro (Au) e Cobre (Cu)\n",
        "\n",
        "- Os dados deste trabalho compreendem teores de **Au** e **Cu** amostrados em superfície;\n",
        "- O presente dataset é **fictício**, **bidimensional** e **georreferenciado**;\n",
        "- As coordenadas **X** e **Y** são apresentadas em um **sistema de coordenadas interno**;\n",
        "- O objetivo deste exercício é realizar a **análise exploratória** do dataset de forma simplificada, utilizando os conhecimentos adquiridos no curso de introdução à Ciência de Dados **\"Quarentena** **Dados\"**. "
      ]
    },
    {
      "cell_type": "markdown",
      "metadata": {
        "id": "WXsCzj8yBu8c",
        "colab_type": "text"
      },
      "source": [
        "## Importação das bibliotecas"
      ]
    },
    {
      "cell_type": "code",
      "metadata": {
        "id": "IaKV7Cw9bq-3",
        "colab_type": "code",
        "colab": {}
      },
      "source": [
        "import pandas as pd\n",
        "import seaborn as sns\n",
        "import numpy as np\n",
        "import plotly\n",
        "import matplotlib.pyplot as plt"
      ],
      "execution_count": 0,
      "outputs": []
    },
    {
      "cell_type": "markdown",
      "metadata": {
        "id": "y2_KMsmsB-Wm",
        "colab_type": "text"
      },
      "source": [
        "## Considerações Iniciais\n",
        "\n",
        "- O dataset apresenta um total de **268 amostras**;\n",
        "- O dataframe apresenta **268 linhas** e **4 colunas**;\n",
        "- As colunas são representadas pelos atributos 'X', 'Y', 'CU' e 'AU':\n",
        "  - **X** = coordenada interna X;\n",
        "  - **Y** = coordenada interna Y;\n",
        "  - **CU** = teores de Cu em %;\n",
        "  - **AU** = teores de Au em ppm;\n",
        "- O dataframe apresenta **agrupamento preferencial de amostras** (dados \"clusterizados\");\n",
        "- O dataframe não apresenta valores faltantes e o contexto do depósito é, portanto, **isotópico**."
      ]
    },
    {
      "cell_type": "code",
      "metadata": {
        "id": "Hj4fHdTY4QuR",
        "colab_type": "code",
        "outputId": "15e65a88-0a97-4518-d304-56ca85de29fa",
        "colab": {
          "base_uri": "https://localhost:8080/",
          "height": 221
        }
      },
      "source": [
        "# Carregando o dataset via Pandas\n",
        "uri = 'https://raw.githubusercontent.com/fnaghetini/My-Study-Projects/master/EDA_Au_Cu_dataset.csv'\n",
        "df = pd.read_csv (uri)\n",
        "# Número de linhas e colunas do dataframe\n",
        "print (df.shape)\n",
        "# Visualização das 5 primeiras linhas do dataframe\n",
        "df.head ()"
      ],
      "execution_count": 0,
      "outputs": [
        {
          "output_type": "stream",
          "text": [
            "(268, 4)\n"
          ],
          "name": "stdout"
        },
        {
          "output_type": "execute_result",
          "data": {
            "text/html": [
              "<div>\n",
              "<style scoped>\n",
              "    .dataframe tbody tr th:only-of-type {\n",
              "        vertical-align: middle;\n",
              "    }\n",
              "\n",
              "    .dataframe tbody tr th {\n",
              "        vertical-align: top;\n",
              "    }\n",
              "\n",
              "    .dataframe thead th {\n",
              "        text-align: right;\n",
              "    }\n",
              "</style>\n",
              "<table border=\"1\" class=\"dataframe\">\n",
              "  <thead>\n",
              "    <tr style=\"text-align: right;\">\n",
              "      <th></th>\n",
              "      <th>X</th>\n",
              "      <th>Y</th>\n",
              "      <th>CU</th>\n",
              "      <th>AU</th>\n",
              "    </tr>\n",
              "  </thead>\n",
              "  <tbody>\n",
              "    <tr>\n",
              "      <th>0</th>\n",
              "      <td>40.0</td>\n",
              "      <td>71.0</td>\n",
              "      <td>0.762</td>\n",
              "      <td>0.0011</td>\n",
              "    </tr>\n",
              "    <tr>\n",
              "      <th>1</th>\n",
              "      <td>21.0</td>\n",
              "      <td>69.0</td>\n",
              "      <td>2.843</td>\n",
              "      <td>0.0078</td>\n",
              "    </tr>\n",
              "    <tr>\n",
              "      <th>2</th>\n",
              "      <td>28.0</td>\n",
              "      <td>80.0</td>\n",
              "      <td>6.068</td>\n",
              "      <td>0.1053</td>\n",
              "    </tr>\n",
              "    <tr>\n",
              "      <th>3</th>\n",
              "      <td>29.0</td>\n",
              "      <td>59.0</td>\n",
              "      <td>7.727</td>\n",
              "      <td>1.5127</td>\n",
              "    </tr>\n",
              "    <tr>\n",
              "      <th>4</th>\n",
              "      <td>41.0</td>\n",
              "      <td>81.0</td>\n",
              "      <td>2.695</td>\n",
              "      <td>0.0098</td>\n",
              "    </tr>\n",
              "  </tbody>\n",
              "</table>\n",
              "</div>"
            ],
            "text/plain": [
              "      X     Y     CU      AU\n",
              "0  40.0  71.0  0.762  0.0011\n",
              "1  21.0  69.0  2.843  0.0078\n",
              "2  28.0  80.0  6.068  0.1053\n",
              "3  29.0  59.0  7.727  1.5127\n",
              "4  41.0  81.0  2.695  0.0098"
            ]
          },
          "metadata": {
            "tags": []
          },
          "execution_count": 62
        }
      ]
    },
    {
      "cell_type": "code",
      "metadata": {
        "id": "CkT-piX8_n-m",
        "colab_type": "code",
        "outputId": "82c5a222-735d-4bdb-edb4-987710039e5b",
        "colab": {
          "base_uri": "https://localhost:8080/",
          "height": 320
        }
      },
      "source": [
        "# Distribuição espacial das amostras\n",
        "X = df.X\n",
        "Y = df.Y\n",
        "\n",
        "sns.set_style (\"whitegrid\" )\n",
        "plt.figure (figsize= (5, 5))\n",
        "plt.scatter(X, Y)\n",
        "plt.show()"
      ],
      "execution_count": 0,
      "outputs": [
        {
          "output_type": "display_data",
          "data": {
            "image/png": "[encoded data removed]",
            "text/plain": [
              "<Figure size 360x360 with 1 Axes>"
            ]
          },
          "metadata": {
            "tags": []
          }
        }
      ]
    },
    {
      "cell_type": "code",
      "metadata": {
        "id": "limVf5QQ6M5Y",
        "colab_type": "code",
        "outputId": "0a9087b5-b930-48c4-ff3c-4a91227305a5",
        "colab": {
          "base_uri": "https://localhost:8080/",
          "height": 153
        }
      },
      "source": [
        "# Verificação de valores faltantes\n",
        "print (df.AU.isnull ().value_counts ())\n",
        "print (df.CU.isnull ().value_counts ())\n",
        "print (df.X.isnull ().value_counts ())\n",
        "print (df.Y.isnull ().value_counts ())"
      ],
      "execution_count": 0,
      "outputs": [
        {
          "output_type": "stream",
          "text": [
            "False    268\n",
            "Name: AU, dtype: int64\n",
            "False    268\n",
            "Name: CU, dtype: int64\n",
            "False    268\n",
            "Name: X, dtype: int64\n",
            "False    268\n",
            "Name: Y, dtype: int64\n"
          ],
          "name": "stdout"
        }
      ]
    },
    {
      "cell_type": "markdown",
      "metadata": {
        "id": "3ek5T4ADBL1f",
        "colab_type": "text"
      },
      "source": [
        "## Análise Estatística Univariada"
      ]
    },
    {
      "cell_type": "markdown",
      "metadata": {
        "id": "81lDMGl1_nmy",
        "colab_type": "text"
      },
      "source": [
        "### Sumário Estatístico\n",
        "\n",
        "- Os teores de **Cu (%)** apresentam magnitude quase **10 vezes maior** que os teores de **Au (ppm)**, em média;\n",
        "- Há uma diferença significativa entre a **média** e a **mediana** dos teores de **Au**, de maneira que a primeira medida é quase **duas vezes maior** que a segunda;\n",
        "- As **medidas de tendência central** (i.e. média e mediana) dos teores de **Cu** são relativamente **similares**;\n",
        "- O **desvio padrão** dos teores de **Cu** é maior que essa mesma medida dos teores de **Au**;\n",
        "- O **desvio padrão** dos teores de **Au** é **maior** que a **média** desses valores;\n",
        "- O teor **máximo** de **Au** é quase **6 vezes maior** que o **quartil superior** dessa variável;\n",
        "- O teor **máximo** de **Cu** é  **2 vezes maior** que o **quartil superior** dessa variável."
      ]
    },
    {
      "cell_type": "code",
      "metadata": {
        "id": "-KfLFZVE7W7X",
        "colab_type": "code",
        "outputId": "49803a5d-6a42-44d0-83ec-01ea9fd12184",
        "colab": {
          "base_uri": "https://localhost:8080/",
          "height": 297
        }
      },
      "source": [
        "# Obtenção do sumário estatístico para as variáveis Au e Cu\n",
        "df [['AU', 'CU']].describe ()"
      ],
      "execution_count": 0,
      "outputs": [
        {
          "output_type": "execute_result",
          "data": {
            "text/html": [
              "<div>\n",
              "<style scoped>\n",
              "    .dataframe tbody tr th:only-of-type {\n",
              "        vertical-align: middle;\n",
              "    }\n",
              "\n",
              "    .dataframe tbody tr th {\n",
              "        vertical-align: top;\n",
              "    }\n",
              "\n",
              "    .dataframe thead th {\n",
              "        text-align: right;\n",
              "    }\n",
              "</style>\n",
              "<table border=\"1\" class=\"dataframe\">\n",
              "  <thead>\n",
              "    <tr style=\"text-align: right;\">\n",
              "      <th></th>\n",
              "      <th>AU</th>\n",
              "      <th>CU</th>\n",
              "    </tr>\n",
              "  </thead>\n",
              "  <tbody>\n",
              "    <tr>\n",
              "      <th>count</th>\n",
              "      <td>268.000000</td>\n",
              "      <td>268.000000</td>\n",
              "    </tr>\n",
              "    <tr>\n",
              "      <th>mean</th>\n",
              "      <td>0.619859</td>\n",
              "      <td>5.624761</td>\n",
              "    </tr>\n",
              "    <tr>\n",
              "      <th>std</th>\n",
              "      <td>0.771060</td>\n",
              "      <td>2.702377</td>\n",
              "    </tr>\n",
              "    <tr>\n",
              "      <th>min</th>\n",
              "      <td>0.000100</td>\n",
              "      <td>0.130000</td>\n",
              "    </tr>\n",
              "    <tr>\n",
              "      <th>25%</th>\n",
              "      <td>0.095100</td>\n",
              "      <td>3.810000</td>\n",
              "    </tr>\n",
              "    <tr>\n",
              "      <th>50%</th>\n",
              "      <td>0.349200</td>\n",
              "      <td>5.762500</td>\n",
              "    </tr>\n",
              "    <tr>\n",
              "      <th>75%</th>\n",
              "      <td>0.878100</td>\n",
              "      <td>7.345250</td>\n",
              "    </tr>\n",
              "    <tr>\n",
              "      <th>max</th>\n",
              "      <td>5.190100</td>\n",
              "      <td>15.281000</td>\n",
              "    </tr>\n",
              "  </tbody>\n",
              "</table>\n",
              "</div>"
            ],
            "text/plain": [
              "               AU          CU\n",
              "count  268.000000  268.000000\n",
              "mean     0.619859    5.624761\n",
              "std      0.771060    2.702377\n",
              "min      0.000100    0.130000\n",
              "25%      0.095100    3.810000\n",
              "50%      0.349200    5.762500\n",
              "75%      0.878100    7.345250\n",
              "max      5.190100   15.281000"
            ]
          },
          "metadata": {
            "tags": []
          },
          "execution_count": 65
        }
      ]
    },
    {
      "cell_type": "markdown",
      "metadata": {
        "id": "ZF8m7U0exn8j",
        "colab_type": "text"
      },
      "source": [
        "### IQR\n",
        "\n",
        "- O IQR do Cu é **maior** que o IQR do Au."
      ]
    },
    {
      "cell_type": "code",
      "metadata": {
        "id": "huUH_hfextjY",
        "colab_type": "code",
        "outputId": "9a4c138a-0826-4229-d1e8-ab1cfddcc942",
        "colab": {
          "base_uri": "https://localhost:8080/",
          "height": 51
        }
      },
      "source": [
        "iqr_au = df.AU.quantile (.75) - df.AU.quantile (.25)\n",
        "iqr_cu = df.CU.quantile (.75) - df.CU.quantile (.25)\n",
        "print ('IQR (Au) = ', iqr_au.round (2))\n",
        "print ('IQR (Cu) = ', iqr_cu.round (2))"
      ],
      "execution_count": 0,
      "outputs": [
        {
          "output_type": "stream",
          "text": [
            "IQR (Au) =  0.78\n",
            "IQR (Cu) =  3.54\n"
          ],
          "name": "stdout"
        }
      ]
    },
    {
      "cell_type": "markdown",
      "metadata": {
        "id": "PBRdVB_oEkno",
        "colab_type": "text"
      },
      "source": [
        "### IQR/mediana\n",
        "\n",
        "- O IQR \"standardizado\" do Au é **maior** do que o do Cu."
      ]
    },
    {
      "cell_type": "code",
      "metadata": {
        "id": "a7fs4ye3EuYo",
        "colab_type": "code",
        "outputId": "c5703ff7-0964-4507-e348-bd51d19faa2b",
        "colab": {
          "base_uri": "https://localhost:8080/",
          "height": 51
        }
      },
      "source": [
        "iqr_m_au = iqr_au / df.AU.median ()\n",
        "iqr_m_cu = iqr_cu / df.CU.median ()\n",
        "print ('IQR/mediana (Au) = ', iqr_m_au.round (2))\n",
        "print ('IQR/mediana (Cu) = ', iqr_m_cu.round (2))"
      ],
      "execution_count": 0,
      "outputs": [
        {
          "output_type": "stream",
          "text": [
            "IQR/mediana (Au) =  2.24\n",
            "IQR/mediana (Cu) =  0.61\n"
          ],
          "name": "stdout"
        }
      ]
    },
    {
      "cell_type": "markdown",
      "metadata": {
        "id": "alu2S0rvC-Oe",
        "colab_type": "text"
      },
      "source": [
        "### Coeficiente de Variação\n",
        "\n",
        "- O coeficiente de variação do Au é **maior** que o do Cu."
      ]
    },
    {
      "cell_type": "code",
      "metadata": {
        "id": "0u2nMwMODGBv",
        "colab_type": "code",
        "outputId": "883abcaf-3969-4c67-94db-c50d7ac8557c",
        "colab": {
          "base_uri": "https://localhost:8080/",
          "height": 51
        }
      },
      "source": [
        "cv_au = df.AU.std () / df.AU.mean ()\n",
        "cv_cu = df.CU.std () / df.CU.mean ()\n",
        "print (f'CV(Au) = {cv_au}')\n",
        "print (f'CV(Cu) = {cv_cu}')"
      ],
      "execution_count": 0,
      "outputs": [
        {
          "output_type": "stream",
          "text": [
            "CV(Au) = 1.2439279899026912\n",
            "CV(Cu) = 0.48044289480255165\n"
          ],
          "name": "stdout"
        }
      ]
    },
    {
      "cell_type": "markdown",
      "metadata": {
        "id": "blvyMp98VcWH",
        "colab_type": "text"
      },
      "source": [
        "### Medidas de Forma"
      ]
    },
    {
      "cell_type": "markdown",
      "metadata": {
        "id": "Hoc98zfXvP7o",
        "colab_type": "text"
      },
      "source": [
        "#### Coeficiente de Assimetria (Skewness)\n",
        "\n",
        "- O **coeficiente** **de** **assimetria** do **Au** é **maior** que zero;\n",
        "- O **coeficiente de assimetria** do **Cu** é **próximo** de zero.\n"
      ]
    },
    {
      "cell_type": "code",
      "metadata": {
        "id": "Zs8V9ToHvZcI",
        "colab_type": "code",
        "outputId": "12a5cf6f-606b-476a-c2e1-9c5cb547ace6",
        "colab": {
          "base_uri": "https://localhost:8080/",
          "height": 51
        }
      },
      "source": [
        "au_skew = df.AU.skew ().round (2)\n",
        "cu_skew = df.CU.skew ().round (2)\n",
        "print (f'Coef. Assimetria (Au) = {au_skew}')\n",
        "print (f'Coef. Assimetria (Cu) = {cu_skew}')"
      ],
      "execution_count": 0,
      "outputs": [
        {
          "output_type": "stream",
          "text": [
            "Coef. Assimetria (Au) = 2.27\n",
            "Coef. Assimetria (Cu) = 0.41\n"
          ],
          "name": "stdout"
        }
      ]
    },
    {
      "cell_type": "markdown",
      "metadata": {
        "id": "KUdccBlB2QTF",
        "colab_type": "text"
      },
      "source": [
        "#### Curtosis\n",
        "\n",
        "- A \"curtosidade\" da biblioteca Pandas segue a definição de Fisher, em que a curtosis de uma distribuição normal é igual a zero.\n",
        "- Nesse sentido, a \"curtosidade\" do Cu é próxima de zero, enquanto a do Au é significativamente distante."
      ]
    },
    {
      "cell_type": "code",
      "metadata": {
        "id": "M0MX4eKEvZuQ",
        "colab_type": "code",
        "outputId": "e444882b-cce6-4509-e42c-3a7bc5fccade",
        "colab": {
          "base_uri": "https://localhost:8080/"
        }
      },
      "source": [
        "au_kur = df.AU.kurtosis ().round (2)\n",
        "cu_kur = df.CU.kurtosis ().round (2)\n",
        "print (f'Curtosis (Au) = {au_kur}')\n",
        "print (f'Curtosis (Cu) = {cu_kur}')"
      ],
      "execution_count": 0,
      "outputs": [
        {
          "output_type": "stream",
          "text": [
            "Curtosis (Au) = 6.97\n",
            "Curtosis (Cu) = 0.59\n"
          ],
          "name": "stdout"
        }
      ]
    },
    {
      "cell_type": "markdown",
      "metadata": {
        "id": "ExGWyILOJQv3",
        "colab_type": "text"
      },
      "source": [
        "### Histogramas"
      ]
    },
    {
      "cell_type": "markdown",
      "metadata": {
        "id": "5xS-3RclOgsu",
        "colab_type": "text"
      },
      "source": [
        "#### Au"
      ]
    },
    {
      "cell_type": "code",
      "metadata": {
        "id": "vDIiBQT1Jala",
        "colab_type": "code",
        "outputId": "34090612-2009-4b91-c2f8-c19e94d75a66",
        "colab": {
          "base_uri": "https://localhost:8080/"
        }
      },
      "source": [
        "# Plotagem do histograma do Au\n",
        "df.AU.plot (kind = 'hist', title = \"Distribuição de frequência - Au\",\n",
        "         grid = False, xlim = (0,6), fontsize = 12, bins = 20)\n",
        "\n",
        "plt.show ()"
      ],
      "execution_count": 0,
      "outputs": [
        {
          "output_type": "display_data",
          "data": {
            "image/png": "[encoded data removed]",
            "text/plain": [
              "<Figure size 432x288 with 1 Axes>"
            ]
          },
          "metadata": {
            "tags": []
          }
        }
      ]
    },
    {
      "cell_type": "code",
      "metadata": {
        "id": "LLA54BAKj0_G",
        "colab_type": "code",
        "outputId": "f571628b-c66f-4bf4-c93e-139083b320df",
        "colab": {
          "base_uri": "https://localhost:8080/"
        }
      },
      "source": [
        "# Plotagem do histograma do Au juntamente com seu modelo de distribuição\n",
        "sns.distplot (df.AU, bins = 20, color = 'Yellow', axlabel = 'Au (ppm)')\n",
        "\n",
        "plt.show ()"
      ],
      "execution_count": 0,
      "outputs": [
        {
          "output_type": "display_data",
          "data": {
            "image/png": "[encoded data removed]",
            "text/plain": [
              "<Figure size 432x288 with 1 Axes>"
            ]
          },
          "metadata": {
            "tags": []
          }
        }
      ]
    },
    {
      "cell_type": "code",
      "metadata": {
        "id": "qF8XF3qYnjt5",
        "colab_type": "code",
        "outputId": "ac258777-2944-4a2a-9d3b-c740ab01bd9b",
        "colab": {
          "base_uri": "https://localhost:8080/"
        }
      },
      "source": [
        "# Plotagem da distribuição acumulada do Au\n",
        "plt.hist (df.AU, cumulative = True, histtype = 'step', color = 'Yellow', bins = 50)\n",
        "plt.show ()"
      ],
      "execution_count": 0,
      "outputs": [
        {
          "output_type": "display_data",
          "data": {
            "image/png": "[encoded data removed]",
            "text/plain": [
              "<Figure size 432x288 with 1 Axes>"
            ]
          },
          "metadata": {
            "tags": []
          }
        }
      ]
    },
    {
      "cell_type": "code",
      "metadata": {
        "id": "YkBcciVPt-J3",
        "colab_type": "code",
        "outputId": "21d55958-7e09-44df-bf03-6d7b30d49c96",
        "colab": {
          "base_uri": "https://localhost:8080/"
        }
      },
      "source": [
        "# Plotagem da distribuição lognormal acumulada do Au\n",
        "plt.hist (df.AU, cumulative = True, histtype = 'step', color = 'Yellow', bins = 50, log = True)\n",
        "plt.show ()"
      ],
      "execution_count": 0,
      "outputs": [
        {
          "output_type": "display_data",
          "data": {
            "image/png": "[encoded data removed]",
            "text/plain": [
              "<Figure size 432x288 with 1 Axes>"
            ]
          },
          "metadata": {
            "tags": []
          }
        }
      ]
    },
    {
      "cell_type": "markdown",
      "metadata": {
        "id": "SfAgO2U8jJGK",
        "colab_type": "text"
      },
      "source": [
        "#### Cu"
      ]
    },
    {
      "cell_type": "code",
      "metadata": {
        "id": "pzBnB8EbjMdD",
        "colab_type": "code",
        "outputId": "6ca7fd7c-8f3b-41e1-d4b0-1712c9a4d3a5",
        "colab": {
          "base_uri": "https://localhost:8080/"
        }
      },
      "source": [
        "# Plotagem do histograma do Cu\n",
        "df.CU.plot (kind = 'hist', title = \"Distribuição de frequência - Cu\",\n",
        "         grid = False, xlim = (0.1,16), fontsize = 12, bins = 20)\n",
        "plt.show ()"
      ],
      "execution_count": 0,
      "outputs": [
        {
          "output_type": "display_data",
          "data": {
            "image/png": "[encoded data removed]",
            "text/plain": [
              "<Figure size 432x288 with 1 Axes>"
            ]
          },
          "metadata": {
            "tags": []
          }
        }
      ]
    },
    {
      "cell_type": "code",
      "metadata": {
        "id": "JmeKDlsKlixu",
        "colab_type": "code",
        "outputId": "873f39b6-f642-4823-9872-67626a41fe25",
        "colab": {
          "base_uri": "https://localhost:8080/"
        }
      },
      "source": [
        "# Plotagem do histograma do Cu juntamente com seu modelo de distribuição\n",
        "sns.distplot (df.CU, bins = 10, color = 'Orange', axlabel = 'Cu (%)')\n",
        "\n",
        "plt.show ()"
      ],
      "execution_count": 0,
      "outputs": [
        {
          "output_type": "display_data",
          "data": {
            "image/png": "[encoded data removed]",
            "text/plain": [
              "<Figure size 432x288 with 1 Axes>"
            ]
          },
          "metadata": {
            "tags": []
          }
        }
      ]
    },
    {
      "cell_type": "code",
      "metadata": {
        "colab_type": "code",
        "outputId": "e7fcab8b-11d2-43b5-ba15-1a2c10321039",
        "id": "HF83PNA3tGho",
        "colab": {
          "base_uri": "https://localhost:8080/"
        }
      },
      "source": [
        "# Plotagem da distribuição acumulada do Cu\n",
        "plt.hist (df.CU, cumulative = True, histtype = 'step', color = 'Orange', bins = 50)\n",
        "plt.show ()"
      ],
      "execution_count": 0,
      "outputs": [
        {
          "output_type": "display_data",
          "data": {
            "image/png": "[encoded data removed]",
            "text/plain": [
              "<Figure size 432x288 with 1 Axes>"
            ]
          },
          "metadata": {
            "tags": []
          }
        }
      ]
    },
    {
      "cell_type": "code",
      "metadata": {
        "id": "48HoXmq3tBWV",
        "colab_type": "code",
        "outputId": "83e0c0f9-f7f4-45a6-89a8-92a31f2deeda",
        "colab": {
          "base_uri": "https://localhost:8080/"
        }
      },
      "source": [
        "# Plotagem da distribuição lognormal acumulada do Cu\n",
        "plt.hist (df.CU, cumulative = True, histtype = 'step', color = 'Orange', bins = 50, log = True)\n",
        "plt.show ()"
      ],
      "execution_count": 0,
      "outputs": [
        {
          "output_type": "display_data",
          "data": {
            "image/png": "[encoded data removed]",
            "text/plain": [
              "<Figure size 432x288 with 1 Axes>"
            ]
          },
          "metadata": {
            "tags": []
          }
        }
      ]
    },
    {
      "cell_type": "markdown",
      "metadata": {
        "id": "wH7Po2O364zq",
        "colab_type": "text"
      },
      "source": [
        "### Boxplots\n",
        "\n",
        "- Os outliers calculados pela biblioteca **Seaborn** se baseiam em um método que é função da distância interquartil (IQR);\n",
        "- A variável Au apresenta um maior número de outliers do que a variável Cu."
      ]
    },
    {
      "cell_type": "markdown",
      "metadata": {
        "id": "p-2OMUCNOtGW",
        "colab_type": "text"
      },
      "source": [
        "#### Au"
      ]
    },
    {
      "cell_type": "code",
      "metadata": {
        "id": "V8TYa9XI69CV",
        "colab_type": "code",
        "outputId": "67360306-b218-4b86-d962-931189a0c955",
        "colab": {
          "base_uri": "https://localhost:8080/"
        }
      },
      "source": [
        "plt.figure (figsize= (16,3))\n",
        "sns.boxplot (data = df, color = 'Yellow', orient = 'h', x = 'AU', saturation = 0.8,\n",
        "             linewidth = 2)\n",
        "plt.show ()"
      ],
      "execution_count": 0,
      "outputs": [
        {
          "output_type": "display_data",
          "data": {
            "image/png": "[encoded data removed]",
            "text/plain": [
              "<Figure size 1152x216 with 1 Axes>"
            ]
          },
          "metadata": {
            "tags": []
          }
        }
      ]
    },
    {
      "cell_type": "code",
      "metadata": {
        "id": "7R3YxF70H60B",
        "colab_type": "code",
        "outputId": "97c15f5e-c6ec-405c-cb31-438b759d2f20",
        "colab": {
          "base_uri": "https://localhost:8080/"
        }
      },
      "source": [
        "out_au = len (df.query ('AU > 2'))\n",
        "print (f'A variável Au apresenta {out_au} outliers.' )"
      ],
      "execution_count": 0,
      "outputs": [
        {
          "output_type": "stream",
          "text": [
            "A variável Au apresenta 13 outliers.\n"
          ],
          "name": "stdout"
        }
      ]
    },
    {
      "cell_type": "markdown",
      "metadata": {
        "id": "70A-vFyoOwle",
        "colab_type": "text"
      },
      "source": [
        "#### Cu"
      ]
    },
    {
      "cell_type": "code",
      "metadata": {
        "colab_type": "code",
        "outputId": "0206e2ec-ac48-4eb3-837b-233b24009398",
        "id": "YWo1_JDN-8Ha",
        "colab": {
          "base_uri": "https://localhost:8080/"
        }
      },
      "source": [
        "plt.figure (figsize= (16,3))\n",
        "sns.boxplot (data = df, color = 'Orange', orient = 'h', x = 'CU', saturation = 0.8,\n",
        "             linewidth = 2)\n",
        "plt.show ()"
      ],
      "execution_count": 0,
      "outputs": [
        {
          "output_type": "display_data",
          "data": {
            "image/png": "[encoded data removed]",
            "text/plain": [
              "<Figure size 1152x216 with 1 Axes>"
            ]
          },
          "metadata": {
            "tags": []
          }
        }
      ]
    },
    {
      "cell_type": "code",
      "metadata": {
        "id": "8EOqjbzhJH0a",
        "colab_type": "code",
        "outputId": "5e10bbee-6b18-49ee-db46-ec21955dff06",
        "colab": {
          "base_uri": "https://localhost:8080/"
        }
      },
      "source": [
        "out_cu = len (df.query ('CU > 12.5'))\n",
        "print (f'A variável Cu apresenta, aproximadamente, {out_cu} outliers.')"
      ],
      "execution_count": 0,
      "outputs": [
        {
          "output_type": "stream",
          "text": [
            "A variável Cu apresenta, aproximadamente, 4 outliers.\n"
          ],
          "name": "stdout"
        }
      ]
    },
    {
      "cell_type": "markdown",
      "metadata": {
        "id": "wy3wyUR9Juh9",
        "colab_type": "text"
      },
      "source": [
        "### Discussão - Estatística Univariada"
      ]
    },
    {
      "cell_type": "markdown",
      "metadata": {
        "id": "6v-uQmYjMDtn",
        "colab_type": "text"
      },
      "source": [
        "#### Variabilidade Au x Cu\n",
        "\n",
        "- A partir da análise precipitada do **desvio padrão** e do **IQR** (medidas de espalhamento), diria-se que a erraticidade do Cu é maior do que a do Au, uma vez que o Cu apresenta valores maiores para essas estatísticas do que o Au;\n",
        "- Entretanto, deve-se enfatizar que o **desvio padrão** é uma estatística **pouco robusta**, ou seja, é amplamente afetada pela presença de valores destoantes;\n",
        "- Já o **IQR**, é uma estatística **mais robusta**, ou seja, não afetada por ouliers. No entanto, trata-se de uma medida **não portável** (assim como o desvio padrão), no sentido de ser afetado pela magnitude dos dados e, portanto, não poder ser utilizado como parâmetro de comparação da variabilidade entre duas variáveis de diferentes magnitudes;\n",
        "- Como a grande discrepância entre a média e a mediana dos teores de Au alertam para a possível presença de outliers, a utilização do desvio padrão para comparar a variabilidade entre os dois metais não é aconselhável;\n",
        "- Similarmente, em função da magnitude dos teores de Cu ser, em média, 10 vezes maior do que a dos teores de Au, a utilização do IQR também não é indicada;\n",
        "- Nesse sentido, é mais indicada a utilização das medidas \"standardizadas\" **IQR/mediana** e **coeficiente de variação**, por se tratarem de estatíticas **robustas** e **portáveis**. A partir delas, é possível dizer que:\n",
        "\n",
        "> **O Au é MAIS errático que o Cu**.\n",
        "\n",
        "\n",
        "\n",
        "\n"
      ]
    },
    {
      "cell_type": "markdown",
      "metadata": {
        "id": "yl4VsIsgVzvL",
        "colab_type": "text"
      },
      "source": [
        "#### Simetria Au x Cu\n",
        "\n",
        "- Como o **coeficiente de assimetria** do **Au** é significativamente maior que zero, diz-se que o Au apresenta uma **assimetria positiva** (teores tendem a ser **menores** qua a média);\n",
        "- Por outro lado, como o **coeficiente** **de** **assimetria** do **Cu** é próximo de zero, entende-se que essa variável tende a uma **simetria** (teores tendem a ser **próximos** da média);\n",
        "- Quando comparadas as **\"curtosidades\"** de Au e Cu, conclui-se que o último apresenta uma **distribuição mais próxima da normal** (curtosis ~ 0) do que o Au."
      ]
    },
    {
      "cell_type": "markdown",
      "metadata": {
        "id": "itlUPopVXwV6",
        "colab_type": "text"
      },
      "source": [
        "#### Distribuição Au x Cu\n",
        "\n",
        "- A partir da análise dos histogramas de Au e Cu é possível validar visualmente a tendência à **assimetria positiva** e **simetria**, respectivamente;\n",
        "- Verifica-se que nenhuma das duas commodities apresenta uma distribuição lognormal, uma vez que o gráfico de distribuição lognormal acumulada não resultou em uma reta em nenhum dos dois casos."
      ]
    },
    {
      "cell_type": "markdown",
      "metadata": {
        "id": "WsnzzQZTZqNd",
        "colab_type": "text"
      },
      "source": [
        "#### Outliers Au x Cu\n",
        "\n",
        "- Segundo a definição de outliers proposta por Fisher, a partir dos boxplots, observa-se que a variável Au apresenta uma maior quantidade de valores destoantes do que o Cu. Tal situação já era especulada pela significativa discrepância entre média e mediana nos teores de Au."
      ]
    },
    {
      "cell_type": "markdown",
      "metadata": {
        "id": "ueAUqjsN716m",
        "colab_type": "text"
      },
      "source": [
        "## Análise Estatística Bivariada"
      ]
    },
    {
      "cell_type": "markdown",
      "metadata": {
        "id": "YAV2LiSkGfQV",
        "colab_type": "text"
      },
      "source": [
        "### Q-Q Plot\n",
        "\n",
        "- Os triângulos vermelhos, no Q-Q Plot, representam os quantis de Au plotados contra os quantis de Cu;\n",
        "- Em cinza, no mesmo gráfico, está representada a **reta Cu = Au**."
      ]
    },
    {
      "cell_type": "code",
      "metadata": {
        "id": "6XH5oMUOVvve",
        "colab_type": "code",
        "outputId": "5c92ae4a-b2a6-4cd2-9c2c-0d8ea09afc9a",
        "colab": {
          "base_uri": "https://localhost:8080/"
        }
      },
      "source": [
        "# Geração de 50 números igualmente espaçados entre 0.0 e 1.0 (quantis)\n",
        "np.linspace(0.0, 1.0, num=50)"
      ],
      "execution_count": 0,
      "outputs": [
        {
          "output_type": "execute_result",
          "data": {
            "text/plain": [
              "array([0.        , 0.02040816, 0.04081633, 0.06122449, 0.08163265,\n",
              "       0.10204082, 0.12244898, 0.14285714, 0.16326531, 0.18367347,\n",
              "       0.20408163, 0.2244898 , 0.24489796, 0.26530612, 0.28571429,\n",
              "       0.30612245, 0.32653061, 0.34693878, 0.36734694, 0.3877551 ,\n",
              "       0.40816327, 0.42857143, 0.44897959, 0.46938776, 0.48979592,\n",
              "       0.51020408, 0.53061224, 0.55102041, 0.57142857, 0.59183673,\n",
              "       0.6122449 , 0.63265306, 0.65306122, 0.67346939, 0.69387755,\n",
              "       0.71428571, 0.73469388, 0.75510204, 0.7755102 , 0.79591837,\n",
              "       0.81632653, 0.83673469, 0.85714286, 0.87755102, 0.89795918,\n",
              "       0.91836735, 0.93877551, 0.95918367, 0.97959184, 1.        ])"
            ]
          },
          "metadata": {
            "tags": []
          },
          "execution_count": 55
        }
      ]
    },
    {
      "cell_type": "code",
      "metadata": {
        "id": "IYVGEdt_TVQG",
        "colab_type": "code",
        "colab": {}
      },
      "source": [
        "# Cálculo dos quantis de Au\n",
        "AU_q = df.AU.quantile ([0, 0.02040816, 0.04081633, 0.06122449, 0.08163265,\n",
        "       0.10204082, 0.12244898, 0.14285714, 0.16326531, 0.18367347,\n",
        "       0.20408163, 0.2244898 , 0.24489796, 0.26530612, 0.28571429,\n",
        "       0.30612245, 0.32653061, 0.34693878, 0.36734694, 0.3877551 ,\n",
        "       0.40816327, 0.42857143, 0.44897959, 0.46938776, 0.48979592,\n",
        "       0.51020408, 0.53061224, 0.55102041, 0.57142857, 0.59183673,\n",
        "       0.6122449 , 0.63265306, 0.65306122, 0.67346939, 0.69387755,\n",
        "       0.71428571, 0.73469388, 0.75510204, 0.7755102 , 0.79591837,\n",
        "       0.81632653, 0.83673469, 0.85714286, 0.87755102, 0.89795918,\n",
        "       0.91836735, 0.93877551, 0.95918367, 0.97959184, 1])\n",
        "# Cálculo dos quantis de Cu\n",
        "CU_q = df.CU.quantile ([0, 0.02040816, 0.04081633, 0.06122449, 0.08163265,\n",
        "       0.10204082, 0.12244898, 0.14285714, 0.16326531, 0.18367347,\n",
        "       0.20408163, 0.2244898 , 0.24489796, 0.26530612, 0.28571429,\n",
        "       0.30612245, 0.32653061, 0.34693878, 0.36734694, 0.3877551 ,\n",
        "       0.40816327, 0.42857143, 0.44897959, 0.46938776, 0.48979592,\n",
        "       0.51020408, 0.53061224, 0.55102041, 0.57142857, 0.59183673,\n",
        "       0.6122449 , 0.63265306, 0.65306122, 0.67346939, 0.69387755,\n",
        "       0.71428571, 0.73469388, 0.75510204, 0.7755102 , 0.79591837,\n",
        "       0.81632653, 0.83673469, 0.85714286, 0.87755102, 0.89795918,\n",
        "       0.91836735, 0.93877551, 0.95918367, 0.97959184, 1])"
      ],
      "execution_count": 0,
      "outputs": []
    },
    {
      "cell_type": "code",
      "metadata": {
        "id": "D7f6FwrbSYCM",
        "colab_type": "code",
        "outputId": "f9675527-22e3-436e-cb0d-5e47395fad5b",
        "colab": {
          "base_uri": "https://localhost:8080/"
        }
      },
      "source": [
        "# Plotagem do Q-Q Plot Cu x Au\n",
        "x = np.linspace(0, 6, num=50)\n",
        "plt.figure (figsize = (6,4))\n",
        "sns.scatterplot (AU_q, CU_q, marker = '^', color = 'Red').plot (x, x, linestyle = '-.', color = 'Gray', )\n",
        "plt.show ()"
      ],
      "execution_count": 0,
      "outputs": [
        {
          "output_type": "display_data",
          "data": {
            "image/png": "[encoded data removed]",
            "text/plain": [
              "<Figure size 432x288 with 1 Axes>"
            ]
          },
          "metadata": {
            "tags": []
          }
        }
      ]
    },
    {
      "cell_type": "markdown",
      "metadata": {
        "id": "I_yMGvZpjdU5",
        "colab_type": "text"
      },
      "source": [
        "### Scatterplot"
      ]
    },
    {
      "cell_type": "code",
      "metadata": {
        "id": "N3DoL7SnjqeX",
        "colab_type": "code",
        "outputId": "99839e93-d077-4038-b711-05c7387d8093",
        "colab": {
          "base_uri": "https://localhost:8080/"
        }
      },
      "source": [
        "# Plotagem do scatterplot Cu x Au\n",
        "sns.scatterplot(x=\"AU\", y=\"CU\", data = df, marker = 'v')\n",
        "plt.show ()"
      ],
      "execution_count": 0,
      "outputs": [
        {
          "output_type": "display_data",
          "data": {
            "image/png": "[encoded data removed]",
            "text/plain": [
              "<Figure size 432x288 with 1 Axes>"
            ]
          },
          "metadata": {
            "tags": []
          }
        }
      ]
    },
    {
      "cell_type": "markdown",
      "metadata": {
        "id": "4zYFMTOAoS7h",
        "colab_type": "text"
      },
      "source": [
        "### Covariância\n",
        "\n",
        "- A matriz de covariância **C (Au, Cu)** retornada apresenta nas posiçoes C11 e C22 as variâncias de Au e Cu, respectivamente;\n",
        "- A covariância entre Au e Cu é **Cov (Au, Cu) = 1.13**."
      ]
    },
    {
      "cell_type": "code",
      "metadata": {
        "id": "VWCoV011oXKs",
        "colab_type": "code",
        "outputId": "48378921-0a14-4508-b630-bd37d962190c",
        "colab": {
          "base_uri": "https://localhost:8080/"
        }
      },
      "source": [
        "# Cálculo da matriz de covariância entre Au e Cu\n",
        "print ('A covariância entre Au e Cu é 1.13.')\n",
        "np.cov (df.AU, df.CU).round (2)"
      ],
      "execution_count": 0,
      "outputs": [
        {
          "output_type": "stream",
          "text": [
            "A covariância entre Au e Cu é 1.13.\n"
          ],
          "name": "stdout"
        },
        {
          "output_type": "execute_result",
          "data": {
            "text/plain": [
              "array([[0.59, 1.13],\n",
              "       [1.13, 7.3 ]])"
            ]
          },
          "metadata": {
            "tags": []
          },
          "execution_count": 59
        }
      ]
    },
    {
      "cell_type": "markdown",
      "metadata": {
        "id": "dvGj_-n5t1VX",
        "colab_type": "text"
      },
      "source": [
        "### Correlação\n"
      ]
    },
    {
      "cell_type": "markdown",
      "metadata": {
        "id": "L0jdslvtPTV1",
        "colab_type": "text"
      },
      "source": [
        "#### Coeficiente de Correlação de Pearson (ρ)\n",
        "\n",
        "- O **coeficiente de correlação de Pearson (ρ)** mede a **correlação linear** entre duas variáveis e é fortemente afetado por pontos distantes da \"nuvem principal\";\n",
        "  - **ρ = 0.54**"
      ]
    },
    {
      "cell_type": "code",
      "metadata": {
        "id": "U9e_jsvkuDmE",
        "colab_type": "code",
        "outputId": "16b7b7f6-5dac-4a0b-ed76-d7ab97cc7b28",
        "colab": {
          "base_uri": "https://localhost:8080/"
        }
      },
      "source": [
        "# Cálculo da matriz de correlação, cujo cada valor é um coeficiente de correlação de Pearson\n",
        "print ('O coeficiente de correlação de Pearson entre Au e Cu é 0.54.')\n",
        "df [['AU', 'CU']].corr (method = 'pearson').round (2)"
      ],
      "execution_count": 0,
      "outputs": [
        {
          "output_type": "stream",
          "text": [
            "O coeficiente de correlação de Pearson entre Au e Cu é 0.54.\n"
          ],
          "name": "stdout"
        },
        {
          "output_type": "execute_result",
          "data": {
            "text/html": [
              "<div>\n",
              "<style scoped>\n",
              "    .dataframe tbody tr th:only-of-type {\n",
              "        vertical-align: middle;\n",
              "    }\n",
              "\n",
              "    .dataframe tbody tr th {\n",
              "        vertical-align: top;\n",
              "    }\n",
              "\n",
              "    .dataframe thead th {\n",
              "        text-align: right;\n",
              "    }\n",
              "</style>\n",
              "<table border=\"1\" class=\"dataframe\">\n",
              "  <thead>\n",
              "    <tr style=\"text-align: right;\">\n",
              "      <th></th>\n",
              "      <th>AU</th>\n",
              "      <th>CU</th>\n",
              "    </tr>\n",
              "  </thead>\n",
              "  <tbody>\n",
              "    <tr>\n",
              "      <th>AU</th>\n",
              "      <td>1.00</td>\n",
              "      <td>0.54</td>\n",
              "    </tr>\n",
              "    <tr>\n",
              "      <th>CU</th>\n",
              "      <td>0.54</td>\n",
              "      <td>1.00</td>\n",
              "    </tr>\n",
              "  </tbody>\n",
              "</table>\n",
              "</div>"
            ],
            "text/plain": [
              "      AU    CU\n",
              "AU  1.00  0.54\n",
              "CU  0.54  1.00"
            ]
          },
          "metadata": {
            "tags": []
          },
          "execution_count": 60
        }
      ]
    },
    {
      "cell_type": "markdown",
      "metadata": {
        "id": "Ye9oPh3pPmW6",
        "colab_type": "text"
      },
      "source": [
        "#### Coeficiente de Correlação de Spearman (ρr)\n",
        "\n",
        "- O **coeficiente de correlação de Spearman (ρr)** trabalha com os valores \"rankeados\", não é sensível a pontos muitos distantes da \"nuvem principal\" e **não se limita a identificar correlações lineares** apenas;\n",
        "  - **ρr = 0.74**"
      ]
    },
    {
      "cell_type": "code",
      "metadata": {
        "id": "Lqh3bszuuIhe",
        "colab_type": "code",
        "outputId": "6fa73717-3ad4-4117-a956-21ffae143605",
        "colab": {
          "base_uri": "https://localhost:8080/"
        }
      },
      "source": [
        "# Cálculo da matriz de correlação, cujo cada valor é um coeficiente de correlação de Spearman\n",
        "print ('O coeficiente de correlação de Spearman entre Au e Cu é 0.74.')\n",
        "df [['AU', 'CU']].corr (method = 'spearman').round (2)"
      ],
      "execution_count": 0,
      "outputs": [
        {
          "output_type": "stream",
          "text": [
            "O coeficiente de correlação de Spearman entre Au e Cu é 0.74.\n"
          ],
          "name": "stdout"
        },
        {
          "output_type": "execute_result",
          "data": {
            "text/html": [
              "<div>\n",
              "<style scoped>\n",
              "    .dataframe tbody tr th:only-of-type {\n",
              "        vertical-align: middle;\n",
              "    }\n",
              "\n",
              "    .dataframe tbody tr th {\n",
              "        vertical-align: top;\n",
              "    }\n",
              "\n",
              "    .dataframe thead th {\n",
              "        text-align: right;\n",
              "    }\n",
              "</style>\n",
              "<table border=\"1\" class=\"dataframe\">\n",
              "  <thead>\n",
              "    <tr style=\"text-align: right;\">\n",
              "      <th></th>\n",
              "      <th>AU</th>\n",
              "      <th>CU</th>\n",
              "    </tr>\n",
              "  </thead>\n",
              "  <tbody>\n",
              "    <tr>\n",
              "      <th>AU</th>\n",
              "      <td>1.00</td>\n",
              "      <td>0.74</td>\n",
              "    </tr>\n",
              "    <tr>\n",
              "      <th>CU</th>\n",
              "      <td>0.74</td>\n",
              "      <td>1.00</td>\n",
              "    </tr>\n",
              "  </tbody>\n",
              "</table>\n",
              "</div>"
            ],
            "text/plain": [
              "      AU    CU\n",
              "AU  1.00  0.74\n",
              "CU  0.74  1.00"
            ]
          },
          "metadata": {
            "tags": []
          },
          "execution_count": 61
        }
      ]
    },
    {
      "cell_type": "markdown",
      "metadata": {
        "id": "kvshqKMrzxoU",
        "colab_type": "text"
      },
      "source": [
        "### Discussão - Estatística Bivariada"
      ]
    },
    {
      "cell_type": "markdown",
      "metadata": {
        "id": "iUnmGfaOxKtA",
        "colab_type": "text"
      },
      "source": [
        "#### Similitude das formas de distribuição de Au e Cu\n",
        "\n",
        "- O **Q-Q Plot entre Au e Cu** mostra que essas variáveis apresentam uma **grande diferença** entre suas formas de distribuição de probabilidade, fato evidenciado pela grande distância da curva resultante em relação à reta Cu = Au;\n",
        "- A curva resultante mostra que os quantis de Cu são maiores que os quantis de Au, ou seja, os **teores de Cu tendem a ser maiores que os teores de Au**;\n",
        "- A diferença entre as distribuições de probabilidade de Au e Cu atesta que ambos pertencem a **domínios estacionários distintos**."
      ]
    },
    {
      "cell_type": "markdown",
      "metadata": {
        "id": "vb7Te7hN0VnP",
        "colab_type": "text"
      },
      "source": [
        "#### Correlação entre Au e Cu\n",
        "\n",
        "- O scatterplot das variáveis Au e Cu mostra que esses teores crescem juntos;\n",
        "- Como o contexto do depósito é **isotópico**, foi possível calcular a covariância entre Au e Cu. Essas variáveis **aparentam** apresentar uma **fraca covariância positiva**;\n",
        "- A comparação entre o coeficiente de correlação de Pearson e o coeficiente de correlação de Spearman mostra que os teores de Au e Cu apresentam uma **correlação positiva que não aparenta ser linear**, visto que **ρ < ρr**."
      ]
    }
  ]
}
